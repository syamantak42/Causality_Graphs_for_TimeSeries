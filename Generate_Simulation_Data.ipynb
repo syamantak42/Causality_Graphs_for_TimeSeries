{
 "cells": [
  {
   "cell_type": "code",
   "execution_count": 1,
   "id": "00c8bed4-f78c-442a-b15a-59363fab67a5",
   "metadata": {},
   "outputs": [],
   "source": [
    "import numpy as np\n",
    "# from scipy.optimize import minimize\n",
    "# from scipy.integrate import quad\n",
    "import pandas as pd\n",
    "import os"
   ]
  },
  {
   "cell_type": "markdown",
   "id": "2906240b-5ccd-4721-8715-5dc62d1fe664",
   "metadata": {},
   "source": [
    "##### create fake data"
   ]
  },
  {
   "cell_type": "code",
   "execution_count": 55,
   "id": "71320c32-a356-411e-b3fb-bb16ff8a02c4",
   "metadata": {},
   "outputs": [
    {
     "name": "stdout",
     "output_type": "stream",
     "text": [
      "(1000, 20) (1000,)\n"
     ]
    }
   ],
   "source": [
    "N_obs = 1000\n",
    "X_dim = 20\n",
    "noise_size = 4\n",
    "X= np.random.randn(N_obs, X_dim)\n",
    "true_coeffs = np.array([0.8, 0.6, 0.3, 0, \n",
    "                        0, 0, 0, 0, \n",
    "                        0.9, 0.5, 0, 0.2, \n",
    "                        0, 0, 0, 0, \n",
    "                        -0.6, 0.1, 0, 0])\n",
    "Y = np.dot(X, true_coeffs) + noise_size*np.random.randn(N_obs)\n",
    "print(X.shape, Y.shape)"
   ]
  },
  {
   "cell_type": "markdown",
   "id": "3a288798-816a-4e76-808a-d85062dc5e83",
   "metadata": {},
   "source": [
    "##### define a set of inter-dependant wide sense stationary time series "
   ]
  },
  {
   "cell_type": "code",
   "execution_count": 69,
   "id": "9192a927-2e25-43a1-876f-f011a6ad0c58",
   "metadata": {},
   "outputs": [
    {
     "data": {
      "text/html": [
       "<div>\n",
       "<style scoped>\n",
       "    .dataframe tbody tr th:only-of-type {\n",
       "        vertical-align: middle;\n",
       "    }\n",
       "\n",
       "    .dataframe tbody tr th {\n",
       "        vertical-align: top;\n",
       "    }\n",
       "\n",
       "    .dataframe thead th {\n",
       "        text-align: right;\n",
       "    }\n",
       "</style>\n",
       "<table border=\"1\" class=\"dataframe\">\n",
       "  <thead>\n",
       "    <tr style=\"text-align: right;\">\n",
       "      <th></th>\n",
       "      <th>X1</th>\n",
       "      <th>X2</th>\n",
       "      <th>X3</th>\n",
       "      <th>X4</th>\n",
       "      <th>X5</th>\n",
       "    </tr>\n",
       "  </thead>\n",
       "  <tbody>\n",
       "    <tr>\n",
       "      <th>0</th>\n",
       "      <td>0.000000</td>\n",
       "      <td>0.000000</td>\n",
       "      <td>0.000000</td>\n",
       "      <td>0.000000</td>\n",
       "      <td>0.000000</td>\n",
       "    </tr>\n",
       "    <tr>\n",
       "      <th>1</th>\n",
       "      <td>0.000000</td>\n",
       "      <td>0.000000</td>\n",
       "      <td>0.000000</td>\n",
       "      <td>0.000000</td>\n",
       "      <td>0.000000</td>\n",
       "    </tr>\n",
       "    <tr>\n",
       "      <th>2</th>\n",
       "      <td>0.496714</td>\n",
       "      <td>-0.138264</td>\n",
       "      <td>0.647689</td>\n",
       "      <td>1.523030</td>\n",
       "      <td>-0.234153</td>\n",
       "    </tr>\n",
       "    <tr>\n",
       "      <th>3</th>\n",
       "      <td>0.163234</td>\n",
       "      <td>1.496254</td>\n",
       "      <td>1.100742</td>\n",
       "      <td>0.613031</td>\n",
       "      <td>0.720435</td>\n",
       "    </tr>\n",
       "    <tr>\n",
       "      <th>4</th>\n",
       "      <td>-0.332830</td>\n",
       "      <td>0.390543</td>\n",
       "      <td>1.473256</td>\n",
       "      <td>-0.553759</td>\n",
       "      <td>-0.286543</td>\n",
       "    </tr>\n",
       "  </tbody>\n",
       "</table>\n",
       "</div>"
      ],
      "text/plain": [
       "         X1        X2        X3        X4        X5\n",
       "0  0.000000  0.000000  0.000000  0.000000  0.000000\n",
       "1  0.000000  0.000000  0.000000  0.000000  0.000000\n",
       "2  0.496714 -0.138264  0.647689  1.523030 -0.234153\n",
       "3  0.163234  1.496254  1.100742  0.613031  0.720435\n",
       "4 -0.332830  0.390543  1.473256 -0.553759 -0.286543"
      ]
     },
     "metadata": {},
     "output_type": "display_data"
    },
    {
     "data": {
      "text/html": [
       "<div>\n",
       "<style scoped>\n",
       "    .dataframe tbody tr th:only-of-type {\n",
       "        vertical-align: middle;\n",
       "    }\n",
       "\n",
       "    .dataframe tbody tr th {\n",
       "        vertical-align: top;\n",
       "    }\n",
       "\n",
       "    .dataframe thead th {\n",
       "        text-align: right;\n",
       "    }\n",
       "</style>\n",
       "<table border=\"1\" class=\"dataframe\">\n",
       "  <thead>\n",
       "    <tr style=\"text-align: right;\">\n",
       "      <th></th>\n",
       "      <th>X1</th>\n",
       "      <th>X2</th>\n",
       "      <th>X3</th>\n",
       "      <th>X4</th>\n",
       "      <th>X5</th>\n",
       "    </tr>\n",
       "  </thead>\n",
       "  <tbody>\n",
       "    <tr>\n",
       "      <th>0</th>\n",
       "      <td>-0.007973</td>\n",
       "      <td>1.479944</td>\n",
       "      <td>0.077368</td>\n",
       "      <td>-0.861284</td>\n",
       "      <td>1.523124</td>\n",
       "    </tr>\n",
       "    <tr>\n",
       "      <th>1</th>\n",
       "      <td>0.538910</td>\n",
       "      <td>-1.037246</td>\n",
       "      <td>-0.190339</td>\n",
       "      <td>-0.875618</td>\n",
       "      <td>-1.382800</td>\n",
       "    </tr>\n",
       "    <tr>\n",
       "      <th>2</th>\n",
       "      <td>1.422892</td>\n",
       "      <td>1.771152</td>\n",
       "      <td>-0.750879</td>\n",
       "      <td>2.085999</td>\n",
       "      <td>-0.884796</td>\n",
       "    </tr>\n",
       "    <tr>\n",
       "      <th>3</th>\n",
       "      <td>-0.323891</td>\n",
       "      <td>0.903860</td>\n",
       "      <td>0.236751</td>\n",
       "      <td>0.661552</td>\n",
       "      <td>-0.110515</td>\n",
       "    </tr>\n",
       "    <tr>\n",
       "      <th>4</th>\n",
       "      <td>-0.062373</td>\n",
       "      <td>0.340305</td>\n",
       "      <td>1.234308</td>\n",
       "      <td>-1.461323</td>\n",
       "      <td>-0.863315</td>\n",
       "    </tr>\n",
       "  </tbody>\n",
       "</table>\n",
       "</div>"
      ],
      "text/plain": [
       "         X1        X2        X3        X4        X5\n",
       "0 -0.007973  1.479944  0.077368 -0.861284  1.523124\n",
       "1  0.538910 -1.037246 -0.190339 -0.875618 -1.382800\n",
       "2  1.422892  1.771152 -0.750879  2.085999 -0.884796\n",
       "3 -0.323891  0.903860  0.236751  0.661552 -0.110515\n",
       "4 -0.062373  0.340305  1.234308 -1.461323 -0.863315"
      ]
     },
     "metadata": {},
     "output_type": "display_data"
    },
    {
     "name": "stdout",
     "output_type": "stream",
     "text": [
      "C:\\Users\\Owner\\Desktop\\Projects\\Research\\GrangerCausality\\Data\\\n"
     ]
    }
   ],
   "source": [
    "# Set random seed for reproducibility\n",
    "np.random.seed(42)\n",
    "K = 5\n",
    "# Number of observations (N) and number of time series (K)\n",
    "N = 100\n",
    "noise = 1\n",
    "obs_noise = 1\n",
    "# Create a DataFrame to store the time series data\n",
    "data = pd.DataFrame(index=range(N))\n",
    "\n",
    "# Generate time series data for X1\n",
    "data['X1'] = 0.0  # Initialize X1 with zeros\n",
    "data['X2'] = 0.0  # Initialize X1 with zeros\n",
    "data['X3'] = 0.0  # Initialize X1 with zeros\n",
    "data['X4'] = 0.0  # Initialize X1 with zeros\n",
    "data['X5'] = 0.0  # Initialize X1 with zeros\n",
    "\n",
    "for t in range(2, N):\n",
    "    data.at[t, 'X1'] = 0.8 * data.at[t-1, 'X1']  + noise*np.random.normal()\n",
    "    data.at[t, 'X2'] = 0.6 * data.at[t-1, 'X2'] +0.3 * data.at[t-2, 'X2'] +noise* np.random.normal()\n",
    "    data.at[t, 'X3'] = 0.6 * data.at[t-1, 'X3']  +0.4 * data.at[t-1, 'X2']  +0.2* data.at[t-2, 'X2'] + noise* np.random.normal()\n",
    "    data.at[t, 'X4'] = 0.7 * data.at[t-1, 'X4']  +0.6 * data.at[t-1, 'X2']  +0.2* data.at[t-1, 'X1'] + noise*np.random.normal()\n",
    "    data.at[t, 'X5'] = 0.9 * data.at[t-1, 'X5']  +0.6 * data.at[t-1, 'X3']  +0.2* data.at[t-2, 'X3'] + noise*np.random.normal()\n",
    "# # Generate random time series data for X2, X3, X4, X5\n",
    "# for i in range(2, K + 1):\n",
    "#     data[f'X{i}'] = np.random.normal(size=N)\n",
    "noisy_vals = data.values + obs_noise * np.random.normal(size = (N, K))\n",
    "df = pd.DataFrame(data = noisy_vals, columns = data.columns)\n",
    "# Display the generated time series data\n",
    "#print(data.head())\n",
    "\n",
    "\n",
    "display(data.head(), df.head())\n",
    "MainPath = os.path.normpath(os.getcwd() + os.sep + os.pardir)\n",
    "DataPath = str(MainPath) + \"\\\\Data\\\\\"\n",
    "print(DataPath)\n",
    "df.to_csv(DataPath  +\"simulate_noise_\"+str(noise)+\"_obs_noise_\"+str(obs_noise)+\"_\"+str(N)+\".csv\")"
   ]
  },
  {
   "cell_type": "code",
   "execution_count": 57,
   "id": "5eec60e8-e07f-4439-8d85-e44ff0c68d1c",
   "metadata": {},
   "outputs": [
    {
     "data": {
      "text/plain": [
       "2      0.496714\n",
       "3      0.163234\n",
       "4     -0.332830\n",
       "5     -0.828552\n",
       "6      0.802807\n",
       "         ...   \n",
       "195    1.541834\n",
       "196    1.361572\n",
       "197   -0.800283\n",
       "198    0.145573\n",
       "199   -1.041906\n",
       "Name: X1, Length: 198, dtype: float64"
      ]
     },
     "execution_count": 57,
     "metadata": {},
     "output_type": "execute_result"
    }
   ],
   "source": [
    "data[\"X1\"]"
   ]
  },
  {
   "cell_type": "code",
   "execution_count": null,
   "id": "90235606-64d5-4f97-9c3d-83559e794663",
   "metadata": {},
   "outputs": [],
   "source": []
  }
 ],
 "metadata": {
  "kernelspec": {
   "display_name": "Python 3 (ipykernel)",
   "language": "python",
   "name": "python3"
  },
  "language_info": {
   "codemirror_mode": {
    "name": "ipython",
    "version": 3
   },
   "file_extension": ".py",
   "mimetype": "text/x-python",
   "name": "python",
   "nbconvert_exporter": "python",
   "pygments_lexer": "ipython3",
   "version": "3.10.13"
  }
 },
 "nbformat": 4,
 "nbformat_minor": 5
}
